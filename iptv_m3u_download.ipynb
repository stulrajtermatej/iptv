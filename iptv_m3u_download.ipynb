{
 "cells": [
  {
   "cell_type": "code",
   "execution_count": 3,
   "metadata": {},
   "outputs": [],
   "source": [
    "\n",
    "\n",
    "\n",
    "\n",
    "\n",
    "import requests\n",
    "\n",
    "url = 'https://raw.githubusercontent.com/iptv-org/iptv/master/streams/sk.m3u'\n",
    "\n",
    "# Send a GET request to the URL\n",
    "response = requests.get(url, stream=True)\n",
    "\n",
    "# Open a local file with write permission\n",
    "with open('local_file.m3u', 'wb') as file:\n",
    "    for chunk in response.iter_content(chunk_size=1024):\n",
    "        if chunk:\n",
    "            file.write(chunk)\n"
   ]
  },
  {
   "cell_type": "code",
   "execution_count": 19,
   "metadata": {},
   "outputs": [],
   "source": [
    "\n",
    "links = ['https://github.com/iptv-org/iptv/blob/master/streams/sk.m3u',\n",
    "         'https://github.com/iptv-org/iptv/blob/master/streams/sk_joj.m3u',\n",
    "         'https://github.com/iptv-org/iptv/blob/master/streams/cz.m3u',\n",
    "         'https://github.com/iptv-org/iptv/blob/master/streams/gb.m3u',\n",
    "         'https://github.com/iptv-org/iptv/blob/master/streams/de.m3u',\n",
    "         'https://github.com/iptv-org/iptv/blob/master/streams/us.m3u',\n",
    "         'https://github.com/iptv-org/iptv/blob/master/streams/ru.m3u',\n",
    "]\n",
    "\n",
    "rawlinks=[]\n",
    "\n",
    "for link in links:\n",
    "    rawlinks.append(\"https://raw.githubusercontent.com/\"+link.split(\"/\")[-6]+\"/\"+link.split(\"/\")[-5]+\"/\"+link.split(\"/\")[-3]+\"/\"+link.split(\"/\")[-2]+\"/\"+link.split(\"/\")[-1])\n",
    "\n",
    "for url in rawlinks:\n",
    "    response = requests.get(url, stream=True)\n",
    "\n",
    "    with open('local_file.m3u', 'wb') as file:\n",
    "        for chunk in response.iter_content(chunk_size=1024):\n",
    "            if chunk:\n",
    "                file.write(chunk)"
   ]
  },
  {
   "cell_type": "code",
   "execution_count": 20,
   "metadata": {},
   "outputs": [
    {
     "data": {
      "text/plain": [
       "['https://raw.githubusercontent.com/iptv-org/iptv/master/streams/sk.m3u',\n",
       " 'https://raw.githubusercontent.com/iptv-org/iptv/master/streams/sk_joj.m3u',\n",
       " 'https://raw.githubusercontent.com/iptv-org/iptv/master/streams/cz.m3u',\n",
       " 'https://raw.githubusercontent.com/iptv-org/iptv/master/streams/ru.m3u']"
      ]
     },
     "execution_count": 20,
     "metadata": {},
     "output_type": "execute_result"
    }
   ],
   "source": [
    "rawlinks"
   ]
  },
  {
   "cell_type": "code",
   "execution_count": null,
   "metadata": {},
   "outputs": [],
   "source": []
  }
 ],
 "metadata": {
  "kernelspec": {
   "display_name": "venv",
   "language": "python",
   "name": "python3"
  },
  "language_info": {
   "codemirror_mode": {
    "name": "ipython",
    "version": 3
   },
   "file_extension": ".py",
   "mimetype": "text/x-python",
   "name": "python",
   "nbconvert_exporter": "python",
   "pygments_lexer": "ipython3",
   "version": "3.11.9"
  }
 },
 "nbformat": 4,
 "nbformat_minor": 2
}
